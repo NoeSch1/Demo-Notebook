{
  "metadata": {
    "kernelspec": {
      "name": "python",
      "display_name": "Python (Pyodide)",
      "language": "python"
    },
    "language_info": {
      "codemirror_mode": {
        "name": "python",
        "version": 3
      },
      "file_extension": ".py",
      "mimetype": "text/x-python",
      "name": "python",
      "nbconvert_exporter": "python",
      "pygments_lexer": "ipython3",
      "version": "3.8"
    }
  },
  "nbformat_minor": 4,
  "nbformat": 4,
  "cells": [
    {
      "cell_type": "markdown",
      "source": "#Demo Notebook",
      "metadata": {}
    },
    {
      "cell_type": "code",
      "source": "import skimage\n\n# load image, filter it and threshold it to create a mask\nimage = skimage.io.imread('satellite (1).tif', plugin='imageio')\n# image = skimage.io.imread('https://raw.githubusercontent.com/guiwitz/YRD2024/main/satellite.tif', plugin='imageio')\nimage_gauss = skimage.filters.gaussian(image, preserve_range=True)\nimage_mask = image_gauss > 1000\n\nskimage.io.imshow_collection([image, image_mask]);",
      "metadata": {
        "trusted": true
      },
      "outputs": [],
      "execution_count": null
    }
  ]
}